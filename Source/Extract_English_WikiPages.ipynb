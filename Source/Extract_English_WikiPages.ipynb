{
 "cells": [
  {
   "cell_type": "markdown",
   "metadata": {},
   "source": [
    "#### 1. Importing Libraries"
   ]
  },
  {
   "cell_type": "code",
   "execution_count": 1,
   "metadata": {},
   "outputs": [],
   "source": [
    "import sys\n",
    "import requests\n",
    "import bs4\n",
    "import json\n",
    "import re\n",
    "import time\n",
    "from nltk.tokenize import sent_tokenize\n",
    "import re"
   ]
  },
  {
   "cell_type": "markdown",
   "metadata": {},
   "source": [
    "#### 2. Extracting WikiPages for all Hindi Labelled Monuments"
   ]
  },
  {
   "cell_type": "code",
   "execution_count": 2,
   "metadata": {
    "scrolled": true
   },
   "outputs": [],
   "source": [
    "monument_list = []\n",
    "for i in range(1,120):\n",
    "    with open('../Data/Wikidata_JSON/en_monument_dump_part'+str(i)+'.json') as f:\n",
    "        new_list = json.load(f)\n",
    "        monument_list = monument_list + new_list"
   ]
  },
  {
   "cell_type": "code",
   "execution_count": 3,
   "metadata": {},
   "outputs": [
    {
     "name": "stdout",
     "output_type": "stream",
     "text": [
      "Checkpoint 9 reached, JSON dumps saved | Time Elapsed: 358.67494773864746\n",
      "Checkpoint 10 reached, JSON dumps saved | Time Elapsed: 734.5727803707123\n",
      "Checkpoint 11 reached, JSON dumps saved | Time Elapsed: 1088.4423913955688\n",
      "Checkpoint 12 reached, JSON dumps saved | Time Elapsed: 1452.0951673984528\n",
      "Checkpoint 13 reached, JSON dumps saved | Time Elapsed: 1838.1248536109924\n",
      "Checkpoint 14 reached, JSON dumps saved | Time Elapsed: 2206.3132951259613\n",
      "Checkpoint 15 reached, JSON dumps saved | Time Elapsed: 2573.7488400936127\n",
      "Checkpoint 16 reached, JSON dumps saved | Time Elapsed: 2942.321704387665\n",
      "Checkpoint 17 reached, JSON dumps saved | Time Elapsed: 3299.2757494449615\n",
      "Checkpoint 18 reached, JSON dumps saved | Time Elapsed: 3675.6000261306763\n",
      "Checkpoint 19 reached, JSON dumps saved | Time Elapsed: 4022.9200007915497\n",
      "Checkpoint 20 reached, JSON dumps saved | Time Elapsed: 4389.505580663681\n",
      "Checkpoint 21 reached, JSON dumps saved | Time Elapsed: 4771.039614677429\n",
      "Checkpoint 22 reached, JSON dumps saved | Time Elapsed: 5151.055947065353\n",
      "Checkpoint 23 reached, JSON dumps saved | Time Elapsed: 5566.498658418655\n",
      "Checkpoint 24 reached, JSON dumps saved | Time Elapsed: 5938.891616344452\n",
      "Checkpoint 25 reached, JSON dumps saved | Time Elapsed: 6311.445916891098\n",
      "Checkpoint 26 reached, JSON dumps saved | Time Elapsed: 6672.412847042084\n",
      "Checkpoint 27 reached, JSON dumps saved | Time Elapsed: 7069.557898044586\n",
      "Checkpoint 28 reached, JSON dumps saved | Time Elapsed: 7429.987679481506\n",
      "Checkpoint 29 reached, JSON dumps saved | Time Elapsed: 7786.9483144283295\n",
      "Checkpoint 30 reached, JSON dumps saved | Time Elapsed: 8210.884182214737\n",
      "Checkpoint 31 reached, JSON dumps saved | Time Elapsed: 8799.910258054733\n",
      "Checkpoint 32 reached, JSON dumps saved | Time Elapsed: 9210.43208694458\n",
      "Checkpoint 33 reached, JSON dumps saved | Time Elapsed: 9613.088721752167\n",
      "Checkpoint 34 reached, JSON dumps saved | Time Elapsed: 9994.742269277573\n",
      "Checkpoint 35 reached, JSON dumps saved | Time Elapsed: 10359.828556537628\n",
      "Checkpoint 36 reached, JSON dumps saved | Time Elapsed: 10719.626660346985\n",
      "Checkpoint 37 reached, JSON dumps saved | Time Elapsed: 11064.617790699005\n",
      "Checkpoint 38 reached, JSON dumps saved | Time Elapsed: 11421.287473201752\n",
      "Checkpoint 39 reached, JSON dumps saved | Time Elapsed: 11757.169864177704\n",
      "Checkpoint 40 reached, JSON dumps saved | Time Elapsed: 12087.47956252098\n",
      "Checkpoint 41 reached, JSON dumps saved | Time Elapsed: 12429.779461622238\n",
      "Checkpoint 42 reached, JSON dumps saved | Time Elapsed: 12765.126740217209\n",
      "Checkpoint 43 reached, JSON dumps saved | Time Elapsed: 13104.183739900589\n",
      "Checkpoint 44 reached, JSON dumps saved | Time Elapsed: 13443.729529380798\n",
      "Checkpoint 45 reached, JSON dumps saved | Time Elapsed: 13803.238485574722\n",
      "Checkpoint 46 reached, JSON dumps saved | Time Elapsed: 14146.3102080822\n",
      "Checkpoint 47 reached, JSON dumps saved | Time Elapsed: 14564.220004558563\n",
      "Checkpoint 48 reached, JSON dumps saved | Time Elapsed: 14920.65811419487\n",
      "Checkpoint 49 reached, JSON dumps saved | Time Elapsed: 15301.4177672863\n",
      "Checkpoint 50 reached, JSON dumps saved | Time Elapsed: 15648.630246639252\n",
      "Checkpoint 51 reached, JSON dumps saved | Time Elapsed: 16019.970892190933\n",
      "Checkpoint 52 reached, JSON dumps saved | Time Elapsed: 16396.396943330765\n",
      "Checkpoint 53 reached, JSON dumps saved | Time Elapsed: 16743.85488843918\n",
      "Checkpoint 54 reached, JSON dumps saved | Time Elapsed: 17115.53315424919\n",
      "Checkpoint 55 reached, JSON dumps saved | Time Elapsed: 17480.82560300827\n",
      "Checkpoint 56 reached, JSON dumps saved | Time Elapsed: 17832.285942077637\n",
      "Checkpoint 57 reached, JSON dumps saved | Time Elapsed: 18179.741108894348\n"
     ]
    }
   ],
   "source": [
    "t0 = time.time()\n",
    "articles = {}\n",
    "count_monuments = 1600\n",
    "for monument in monument_list[1600:]:\n",
    "    res = requests.get('https://en.wikipedia.org/wiki/' + monument['labels']['en']['value'])\n",
    "    if res.status_code != 404:\n",
    "        wiki = bs4.BeautifulSoup(res.text,\"lxml\")\n",
    "        elems = wiki.select('p')\n",
    "        article = []\n",
    "        for i in range(len(elems)):\n",
    "            text = elems[i].getText().replace('\\n', '').lower()\n",
    "            text = text.replace('\\ufeff', ' ')\n",
    "            text = re.sub('\\[\\d+\\]', '', text.strip())\n",
    "            article.extend(sent_tokenize(text))\n",
    "    \n",
    "        if '' in article:\n",
    "            article.remove('')\n",
    "        \n",
    "        for i in range(0,len(article)):\n",
    "            article[i] = article[i].strip()\n",
    "            \n",
    "        articles[monument['id']] = article\n",
    "    \n",
    "    count_monuments = count_monuments + 1\n",
    "    \n",
    "    if count_monuments%200 == 0:\n",
    "        partition_num = str(count_monuments/200).split('.')[0]\n",
    "        with open('../Data/English_Wikipages/en_articles_part'+ partition_num + '.json', 'w') as fout:\n",
    "            json.dump(articles, fout)\n",
    "        \n",
    "        articles = {}\n",
    "        \n",
    "        print(\"Checkpoint %d reached, JSON dumps saved |\" % (count_monuments/200), end = ' ')\n",
    "        print(\"Time Elapsed:\", end = ' ')\n",
    "        print(time.time()-t0)\n",
    "\n",
    "t1 = time.time()\n",
    "total = t1-t0"
   ]
  },
  {
   "cell_type": "code",
   "execution_count": 4,
   "metadata": {},
   "outputs": [
    {
     "name": "stdout",
     "output_type": "stream",
     "text": [
      "18397.479632139206\n",
      "11\n"
     ]
    }
   ],
   "source": [
    "print(total)\n",
    "print(len(articles))"
   ]
  },
  {
   "cell_type": "code",
   "execution_count": 5,
   "metadata": {},
   "outputs": [
    {
     "data": {
      "text/plain": [
       "2011"
      ]
     },
     "execution_count": 5,
     "metadata": {},
     "output_type": "execute_result"
    }
   ],
   "source": [
    "tot_len = 0\n",
    "for i in range(1,57):\n",
    "    with open('../Data/English_Wikipages/en_articles_part'+str(i)+'.json') as f:\n",
    "        tot_len += len(json.load(f))\n",
    "tot_len"
   ]
  },
  {
   "cell_type": "code",
   "execution_count": null,
   "metadata": {},
   "outputs": [],
   "source": []
  }
 ],
 "metadata": {
  "kernelspec": {
   "display_name": "Python 3",
   "language": "python",
   "name": "python3"
  },
  "language_info": {
   "codemirror_mode": {
    "name": "ipython",
    "version": 3
   },
   "file_extension": ".py",
   "mimetype": "text/x-python",
   "name": "python",
   "nbconvert_exporter": "python",
   "pygments_lexer": "ipython3",
   "version": "3.5.2"
  }
 },
 "nbformat": 4,
 "nbformat_minor": 2
}
