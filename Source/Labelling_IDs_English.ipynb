{
 "cells": [
  {
   "cell_type": "markdown",
   "metadata": {},
   "source": [
    "#### 1. Importing Libraries"
   ]
  },
  {
   "cell_type": "code",
   "execution_count": 1,
   "metadata": {},
   "outputs": [],
   "source": [
    "import json\n",
    "from qwikidata.entity import WikidataItem, WikidataLexeme, WikidataProperty\n",
    "from qwikidata.linked_data_interface import get_entity_dict_from_api\n",
    "import json\n",
    "import time"
   ]
  },
  {
   "cell_type": "markdown",
   "metadata": {},
   "source": [
    "#### 2. Reading Monument List"
   ]
  },
  {
   "cell_type": "code",
   "execution_count": 3,
   "metadata": {},
   "outputs": [],
   "source": [
    "monument_list = []\n",
    "for i in range(1,120):\n",
    "    with open('../Data/Wikidata_JSON/en_monument_dump_part'+str(i)+'.json') as f:\n",
    "        new_list = json.load(f)\n",
    "        monument_list = monument_list + new_list\n",
    "\n",
    "monument_dict = {}\n",
    "for monument in monument_list:\n",
    "    monument_dict[monument['id']] = monument\n",
    "             \n",
    "wikipage_monument_dict = {}\n",
    "for i in range(1,58):\n",
    "    with open('../Data/English_Wikipages/en_articles_part'+str(i)+'.json') as f:\n",
    "        new_dict = json.load(f)\n",
    "        wikipage_monument_dict.update(new_dict) "
   ]
  },
  {
   "cell_type": "markdown",
   "metadata": {},
   "source": [
    "#### 3. Retrieving Labels for Property Value pairs for each monument"
   ]
  },
  {
   "cell_type": "code",
   "execution_count": 25,
   "metadata": {
    "scrolled": true
   },
   "outputs": [
    {
     "name": "stdout",
     "output_type": "stream",
     "text": [
      "Checkpoint 72 reached, JSON dumps saved | Time Elapsed: 53.94593405723572\n",
      "Checkpoint 73 reached, JSON dumps saved | Time Elapsed: 97.10320663452148\n",
      "Checkpoint 74 reached, JSON dumps saved | Time Elapsed: 186.917578458786\n",
      "Checkpoint 75 reached, JSON dumps saved | Time Elapsed: 224.09359312057495\n",
      "Checkpoint 76 reached, JSON dumps saved | Time Elapsed: 266.08176708221436\n",
      "Checkpoint 77 reached, JSON dumps saved | Time Elapsed: 367.77900671958923\n",
      "Checkpoint 78 reached, JSON dumps saved | Time Elapsed: 459.12752771377563\n",
      "Checkpoint 79 reached, JSON dumps saved | Time Elapsed: 519.670024394989\n",
      "Checkpoint 80 reached, JSON dumps saved | Time Elapsed: 581.9177811145782\n",
      "Checkpoint 81 reached, JSON dumps saved | Time Elapsed: 654.8344459533691\n",
      "Checkpoint 82 reached, JSON dumps saved | Time Elapsed: 729.4829385280609\n",
      "Checkpoint 83 reached, JSON dumps saved | Time Elapsed: 763.3744251728058\n",
      "Checkpoint 84 reached, JSON dumps saved | Time Elapsed: 800.7547416687012\n",
      "Checkpoint 85 reached, JSON dumps saved | Time Elapsed: 826.2528283596039\n",
      "Checkpoint 86 reached, JSON dumps saved | Time Elapsed: 865.9969601631165\n",
      "Checkpoint 87 reached, JSON dumps saved | Time Elapsed: 912.5712349414825\n",
      "Checkpoint 88 reached, JSON dumps saved | Time Elapsed: 938.4892325401306\n",
      "Checkpoint 89 reached, JSON dumps saved | Time Elapsed: 1005.3667294979095\n",
      "Checkpoint 90 reached, JSON dumps saved | Time Elapsed: 1046.0170712471008\n",
      "Checkpoint 91 reached, JSON dumps saved | Time Elapsed: 1077.8864567279816\n",
      "Checkpoint 92 reached, JSON dumps saved | Time Elapsed: 1108.3770945072174\n",
      "Checkpoint 93 reached, JSON dumps saved | Time Elapsed: 1160.198860168457\n",
      "Checkpoint 94 reached, JSON dumps saved | Time Elapsed: 1207.5993502140045\n",
      "Checkpoint 95 reached, JSON dumps saved | Time Elapsed: 1230.1891272068024\n",
      "Checkpoint 96 reached, JSON dumps saved | Time Elapsed: 1284.9210197925568\n",
      "Checkpoint 97 reached, JSON dumps saved | Time Elapsed: 1316.7215700149536\n",
      "Checkpoint 98 reached, JSON dumps saved | Time Elapsed: 1331.721113204956\n",
      "Checkpoint 99 reached, JSON dumps saved | Time Elapsed: 1380.260541677475\n",
      "Checkpoint 100 reached, JSON dumps saved | Time Elapsed: 1404.3235700130463\n"
     ]
    }
   ],
   "source": [
    "labelled_monument_list = {}\n",
    "label_list = {}\n",
    "non_labelled_props = ['P727']\n",
    "\n",
    "t0 = time.time()\n",
    "\n",
    "index = 0\n",
    "\n",
    "count_monuments = 1420\n",
    "\n",
    "for monument_id in list(wikipage_monument_dict.keys())[1420:]:\n",
    "    \n",
    "    monument = monument_dict[monument_id]\n",
    "    \n",
    "    monument_labelled_prop_val = {}\n",
    "    list_prop_value = monument['claims']\n",
    "    list_properties = list(list_prop_value.keys())\n",
    "    \n",
    "    #Removing Properties from list of properties which dont have a wikidata page\n",
    "    for prop in non_labelled_props:\n",
    "        if prop in list_properties:\n",
    "            list_properties.remove(prop)\n",
    "    \n",
    "    list_properties_copy = list_properties\n",
    "    \n",
    "    #Adding all properties to label list. The ones which dont have wikidata pages are stored in non_labelled_props \n",
    "    for prop in list_properties:\n",
    "        if prop not in label_list.keys():\n",
    "            try:\n",
    "                prop_details = get_entity_dict_from_api(prop)\n",
    "                prop_label = prop_details['labels']['en']['value']\n",
    "                label_list[prop] = prop_label\n",
    "            except:\n",
    "                non_labelled_props.append(prop)\n",
    "                list_properties_copy.remove(prop)\n",
    "    \n",
    "    list_properties = list_properties_copy\n",
    "    \n",
    "    #For all values per property, label is extracted for each value ID [Q##### format]\n",
    "    for prop in list_properties:\n",
    "        \n",
    "        labelled_values = []\n",
    "       \n",
    "        for value in list_prop_value[prop]:\n",
    "            \n",
    "            #Entities which directly have a value instead of an ID for an entity are saved\n",
    "            if value['mainsnak']['snaktype'] == 'value' and isinstance(value['mainsnak']['datavalue']['value'], str):\n",
    "                labelled_values.append(value['mainsnak']['datavalue']['value'])\n",
    "            \n",
    "            #There are entities whose values are in form of Dictionary of values and not a string. These types\n",
    "            #are checked here\n",
    "            elif value['mainsnak']['snaktype'] == 'value' and isinstance(value['mainsnak']['datavalue']['value'], dict):\n",
    "                \n",
    "                #Extracting labels for Entities saved in terms of IDs\n",
    "                if 'id' in value['mainsnak']['datavalue']['value'].keys():\n",
    "                    \n",
    "                    value_id = value['mainsnak']['datavalue']['value']['id']\n",
    "                    value_label = ''\n",
    "                    \n",
    "                    #Extracted labels are stored in label_list for faster computation\n",
    "                    if value_id not in label_list.keys():\n",
    "                        \n",
    "                        value_details = get_entity_dict_from_api(value_id)\n",
    "                        \n",
    "                        if 'en' in value_details['labels'].keys():\n",
    "                            value_label = value_details['labels']['en']['value']\n",
    "                            label_list[value_id] = value_label\n",
    "\n",
    "                    if value_label != '' or value_id in label_list.keys():\n",
    "                        labelled_values.append(label_list[value_id])\n",
    "                    \n",
    "                else:\n",
    "                    labelled_values.append(value['mainsnak']['datavalue']['value'])\n",
    "        \n",
    "        if labelled_values:\n",
    "            monument_labelled_prop_val[label_list[prop]] = labelled_values\n",
    "    \n",
    "    labelled_monument_list[monument['id']] = monument_labelled_prop_val\n",
    "    \n",
    "    count_monuments = count_monuments + 1\n",
    "    \n",
    "    if count_monuments%20 == 0:\n",
    "        partition_num = str(count_monuments/20).split('.')[0]\n",
    "        with open('../Data/English_Labelled_Wikidata/en_labelled_part'+ partition_num + '.json', 'w') as fout:\n",
    "            json.dump(labelled_monument_list, fout)\n",
    "        \n",
    "        labelled_monument_list = {}\n",
    "        \n",
    "        print(\"Checkpoint %d reached, JSON dumps saved |\" % (count_monuments/20), end = ' ')\n",
    "        print(\"Time Elapsed:\", end = ' ')\n",
    "        print(time.time()-t0)\n",
    "    \n",
    "t1 = time.time()\n",
    "total = t1-t0"
   ]
  },
  {
   "cell_type": "code",
   "execution_count": 26,
   "metadata": {},
   "outputs": [
    {
     "name": "stdout",
     "output_type": "stream",
     "text": [
      "1441.9020428657532\n"
     ]
    },
    {
     "data": {
      "text/plain": [
       "11"
      ]
     },
     "execution_count": 26,
     "metadata": {},
     "output_type": "execute_result"
    }
   ],
   "source": [
    "print(total)\n",
    "len(labelled_monument_list)"
   ]
  },
  {
   "cell_type": "markdown",
   "metadata": {},
   "source": [
    "#### 4. Extracting Labels for left over IDs"
   ]
  },
  {
   "cell_type": "code",
   "execution_count": 4,
   "metadata": {},
   "outputs": [],
   "source": [
    "labelled_wikidata_en = {}\n",
    "for i in range(1,102):\n",
    "    with open('../Data/English_Labelled_Wikidata/en_labelled_part'+str(i)+'.json') as f:\n",
    "        labelled_wikidata_en.update(json.load(f))"
   ]
  },
  {
   "cell_type": "code",
   "execution_count": 5,
   "metadata": {},
   "outputs": [],
   "source": [
    "left_over = {}\n",
    "for key in wikipage_monument_dict.keys():\n",
    "    if key not in labelled_wikidata_en.keys():\n",
    "        left_over[key] = wikipage_monument_dict[key]"
   ]
  },
  {
   "cell_type": "code",
   "execution_count": 7,
   "metadata": {},
   "outputs": [
    {
     "name": "stdout",
     "output_type": "stream",
     "text": [
      "1\n",
      "2\n",
      "3\n",
      "4\n",
      "5\n",
      "6\n",
      "7\n",
      "8\n",
      "9\n",
      "10\n",
      "11\n",
      "12\n",
      "13\n",
      "14\n",
      "15\n",
      "16\n",
      "17\n",
      "18\n",
      "19\n",
      "20\n",
      "21\n",
      "22\n",
      "23\n",
      "24\n",
      "25\n",
      "26\n",
      "27\n"
     ]
    }
   ],
   "source": [
    "labelled_monument_list_left_over = {}\n",
    "index = 0\n",
    "label_list = {}\n",
    "non_labelled_props = ['P727']\n",
    "\n",
    "for monument_id in left_over.keys():\n",
    "    \n",
    "    monument = monument_dict[monument_id]\n",
    "    \n",
    "    monument_labelled_prop_val = {}\n",
    "    list_prop_value = monument['claims']\n",
    "    list_properties = list(list_prop_value.keys())\n",
    "    \n",
    "    #Removing Properties from list of properties which dont have a wikidata page\n",
    "    for prop in non_labelled_props:\n",
    "        if prop in list_properties:\n",
    "            list_properties.remove(prop)\n",
    "    \n",
    "    list_properties_copy = list_properties\n",
    "    \n",
    "    #Adding all properties to label list. The ones which dont have wikidata pages are stored in non_labelled_props \n",
    "    for prop in list_properties:\n",
    "        if prop not in label_list.keys():\n",
    "            try:\n",
    "                prop_details = get_entity_dict_from_api(prop)\n",
    "                prop_label = prop_details['labels']['en']['value']\n",
    "                label_list[prop] = prop_label\n",
    "            except:\n",
    "                non_labelled_props.append(prop)\n",
    "                list_properties_copy.remove(prop)\n",
    "    \n",
    "    list_properties = list_properties_copy\n",
    "    \n",
    "    #For all values per property, label is extracted for each value ID [Q##### format]\n",
    "    for prop in list_properties:\n",
    "        \n",
    "        labelled_values = []\n",
    "       \n",
    "        for value in list_prop_value[prop]:\n",
    "            \n",
    "            #Entities which directly have a value instead of an ID for an entity are saved\n",
    "            if value['mainsnak']['snaktype'] == 'value' and isinstance(value['mainsnak']['datavalue']['value'], str):\n",
    "                labelled_values.append(value['mainsnak']['datavalue']['value'])\n",
    "            \n",
    "            #There are entities whose values are in form of Dictionary of values and not a string. These types\n",
    "            #are checked here\n",
    "            elif value['mainsnak']['snaktype'] == 'value' and isinstance(value['mainsnak']['datavalue']['value'], dict):\n",
    "                \n",
    "                #Extracting labels for Entities saved in terms of IDs\n",
    "                if 'id' in value['mainsnak']['datavalue']['value'].keys():\n",
    "                    \n",
    "                    value_id = value['mainsnak']['datavalue']['value']['id']\n",
    "                    value_label = ''\n",
    "                    \n",
    "                    #Extracted labels are stored in label_list for faster computation\n",
    "                    if value_id not in label_list.keys():\n",
    "                        \n",
    "                        value_details = get_entity_dict_from_api(value_id)\n",
    "                        \n",
    "                        if 'en' in value_details['labels'].keys():\n",
    "                            value_label = value_details['labels']['en']['value']\n",
    "                            label_list[value_id] = value_label\n",
    "\n",
    "                    if value_label != '' or value_id in label_list.keys():\n",
    "                        labelled_values.append(label_list[value_id])\n",
    "                    \n",
    "                else:\n",
    "                    labelled_values.append(value['mainsnak']['datavalue']['value'])\n",
    "        \n",
    "        if labelled_values:\n",
    "            monument_labelled_prop_val[label_list[prop]] = labelled_values\n",
    "    \n",
    "    index+=1\n",
    "    print(index)\n",
    "    \n",
    "    labelled_monument_list_left_over[monument['id']] = monument_labelled_prop_val"
   ]
  },
  {
   "cell_type": "code",
   "execution_count": 8,
   "metadata": {},
   "outputs": [],
   "source": [
    "with open('../Data/English_Labelled_Wikidata/en_labelled_part102.json', 'w') as fout:\n",
    "    json.dump(labelled_monument_list_left_over, fout)"
   ]
  },
  {
   "cell_type": "code",
   "execution_count": null,
   "metadata": {},
   "outputs": [],
   "source": []
  }
 ],
 "metadata": {
  "kernelspec": {
   "display_name": "Python 3",
   "language": "python",
   "name": "python3"
  },
  "language_info": {
   "codemirror_mode": {
    "name": "ipython",
    "version": 3
   },
   "file_extension": ".py",
   "mimetype": "text/x-python",
   "name": "python",
   "nbconvert_exporter": "python",
   "pygments_lexer": "ipython3",
   "version": "3.7.3"
  }
 },
 "nbformat": 4,
 "nbformat_minor": 2
}
