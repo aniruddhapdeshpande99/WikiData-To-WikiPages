{
 "cells": [
  {
   "cell_type": "markdown",
   "metadata": {},
   "source": [
    "#### 1. Importing Libraries"
   ]
  },
  {
   "cell_type": "code",
   "execution_count": 1,
   "metadata": {},
   "outputs": [],
   "source": [
    "import json"
   ]
  },
  {
   "cell_type": "markdown",
   "metadata": {},
   "source": [
    "#### 2. Reading JSON Files "
   ]
  },
  {
   "cell_type": "code",
   "execution_count": 2,
   "metadata": {},
   "outputs": [],
   "source": [
    "labelled_wikidata_en = {}\n",
    "for i in range(1,103):\n",
    "    with open('../Data/English_Labelled_Wikidata/en_labelled_part'+str(i)+'.json') as f:\n",
    "        labelled_wikidata_en.update(json.load(f))\n",
    "\n",
    "articles_en = {}\n",
    "for i in range(1,58):\n",
    "    with open('../Data/English_Wikipages/en_articles_part'+str(i)+'.json') as f:\n",
    "        articles_en.update(json.load(f))\n",
    "\n",
    "en_monument_list = []\n",
    "for i in range(1,120):\n",
    "    with open('../Data/Wikidata_JSON/en_monument_dump_part'+str(i)+'.json') as f:\n",
    "        new_list = json.load(f)\n",
    "        en_monument_list = en_monument_list + new_list"
   ]
  },
  {
   "cell_type": "code",
   "execution_count": 3,
   "metadata": {},
   "outputs": [],
   "source": [
    "article_details = []\n",
    "for article_id in articles_en.keys():\n",
    "    split_article = articles_en[article_id]\n",
    "    article_nb = str(len(split_article)) \n",
    "    article_title = ''\n",
    "    article_url = ''\n",
    "    for monument in en_monument_list:\n",
    "        if monument['id'] == article_id:\n",
    "            article_title = monument['labels']['en']['value']\n",
    "            article_url = 'https://en.wikipedia.org/wiki/' + article_title\n",
    "            break\n",
    "    article_details.append([article_id, article_nb, article_title, split_article, article_url])"
   ]
  },
  {
   "cell_type": "markdown",
   "metadata": {},
   "source": [
    "#### 3. Writing the data in the appropriate formatted and segregated files"
   ]
  },
  {
   "cell_type": "code",
   "execution_count": 4,
   "metadata": {},
   "outputs": [],
   "source": [
    "#Saving IDs\n",
    "with open('../Data/WikiBio_Styled_Formatted_Data/English_Monuments/train/train.id', 'a') as f:\n",
    "    for article in article_details[:1631]:\n",
    "        f.write(article[0]+'\\n')\n",
    "\n",
    "with open('../Data/WikiBio_Styled_Formatted_Data/English_Monuments/valid/valid.id', 'a') as f:\n",
    "    for article in article_details[1631:1834]:\n",
    "        f.write(article[0]+'\\n')\n",
    "\n",
    "with open('../Data/WikiBio_Styled_Formatted_Data/English_Monuments/test/test.id', 'a') as f:\n",
    "    for article in article_details[1834:]:\n",
    "        f.write(article[0]+'\\n')"
   ]
  },
  {
   "cell_type": "code",
   "execution_count": 5,
   "metadata": {},
   "outputs": [],
   "source": [
    "#Saving titles\n",
    "with open('../Data/WikiBio_Styled_Formatted_Data/English_Monuments/train/train.title', 'a') as f:\n",
    "    for article in article_details[:1631]:\n",
    "        f.write(article[2]+'\\n')\n",
    "\n",
    "with open('../Data/WikiBio_Styled_Formatted_Data/English_Monuments/valid/valid.title', 'a') as f:\n",
    "    for article in article_details[1631:1834]:\n",
    "        f.write(article[2]+'\\n')\n",
    "\n",
    "with open('../Data/WikiBio_Styled_Formatted_Data/English_Monuments/test/test.title', 'a') as f:\n",
    "    for article in article_details[1834:]:\n",
    "        f.write(article[2]+'\\n')"
   ]
  },
  {
   "cell_type": "code",
   "execution_count": 6,
   "metadata": {},
   "outputs": [],
   "source": [
    "#Saving URLs\n",
    "with open('../Data/WikiBio_Styled_Formatted_Data/English_Monuments/train/train.url', 'a') as f:\n",
    "    for article in article_details[:1631]:\n",
    "        f.write(article[4]+'\\n')\n",
    "\n",
    "with open('../Data/WikiBio_Styled_Formatted_Data/English_Monuments/valid/valid.url', 'a') as f:\n",
    "    for article in article_details[1631:1834]:\n",
    "        f.write(article[4]+'\\n')\n",
    "\n",
    "with open('../Data/WikiBio_Styled_Formatted_Data/English_Monuments/test/test.url', 'a') as f:\n",
    "    for article in article_details[1834:]:\n",
    "        f.write(article[4]+'\\n')"
   ]
  },
  {
   "cell_type": "code",
   "execution_count": 7,
   "metadata": {},
   "outputs": [],
   "source": [
    "#Saving Number of Sentences\n",
    "with open('../Data/WikiBio_Styled_Formatted_Data/English_Monuments/train/train.nb', 'a') as f:\n",
    "    for article in article_details[:1631]:\n",
    "        f.write(article[1]+'\\n')\n",
    "\n",
    "with open('../Data/WikiBio_Styled_Formatted_Data/English_Monuments/valid/valid.nb', 'a') as f:\n",
    "    for article in article_details[1631:1834]:\n",
    "        f.write(article[1]+'\\n')\n",
    "\n",
    "with open('../Data/WikiBio_Styled_Formatted_Data/English_Monuments/test/test.nb', 'a') as f:\n",
    "    for article in article_details[1834:]:\n",
    "        f.write(article[1]+'\\n')"
   ]
  },
  {
   "cell_type": "code",
   "execution_count": 8,
   "metadata": {},
   "outputs": [],
   "source": [
    "#Saving the articles sentence by sentence\n",
    "with open('../Data/WikiBio_Styled_Formatted_Data/English_Monuments/train/train.sent', 'a') as f:\n",
    "    for article in article_details[:1631]:\n",
    "        for sentence in article[3]:\n",
    "            f.write(sentence+'\\n')\n",
    "\n",
    "with open('../Data/WikiBio_Styled_Formatted_Data/English_Monuments/valid/valid.sent', 'a') as f:\n",
    "    for article in article_details[1631:1834]:\n",
    "        for sentence in article[3]:\n",
    "            f.write(sentence+'\\n')\n",
    "\n",
    "with open('../Data/WikiBio_Styled_Formatted_Data/English_Monuments/test/test.sent', 'a') as f:\n",
    "    for article in article_details[1834:]:\n",
    "        for sentence in article[3]:\n",
    "            f.write(sentence+'\\n')"
   ]
  },
  {
   "cell_type": "code",
   "execution_count": 9,
   "metadata": {},
   "outputs": [],
   "source": [
    "#Saving the contribution history for the articles\n",
    "article_contri = []\n",
    "contri_url_template = \"https://en.wikipedia.org/w/index.php?title=\"\n",
    "history_url_template = \"&action=history\"\n",
    "for article in article_details:\n",
    "    title = article[4].split('/')[-1]\n",
    "    article_contri.append(contri_url_template+title+history_url_template)\n",
    "\n",
    "with open('../Data/WikiBio_Styled_Formatted_Data/English_Monuments/train/train.contributors', 'a') as f:\n",
    "    for hist_url in article_contri[:1631]:\n",
    "        f.write(hist_url+'\\n')\n",
    "\n",
    "with open('../Data/WikiBio_Styled_Formatted_Data/English_Monuments/valid/valid.contributors', 'a') as f:\n",
    "    for hist_url in article_contri[1631:1834]:\n",
    "        f.write(hist_url+'\\n')\n",
    "\n",
    "with open('../Data/WikiBio_Styled_Formatted_Data/English_Monuments/test/test.contributors', 'a') as f:\n",
    "    for hist_url in article_contri[1834:]:\n",
    "        f.write(hist_url+'\\n')"
   ]
  },
  {
   "cell_type": "code",
   "execution_count": null,
   "metadata": {},
   "outputs": [],
   "source": []
  }
 ],
 "metadata": {
  "kernelspec": {
   "display_name": "Python 3",
   "language": "python",
   "name": "python3"
  },
  "language_info": {
   "codemirror_mode": {
    "name": "ipython",
    "version": 3
   },
   "file_extension": ".py",
   "mimetype": "text/x-python",
   "name": "python",
   "nbconvert_exporter": "python",
   "pygments_lexer": "ipython3",
   "version": "3.7.3"
  }
 },
 "nbformat": 4,
 "nbformat_minor": 2
}
