{
 "cells": [
  {
   "cell_type": "markdown",
   "metadata": {},
   "source": [
    "#### 1. Importing Libraries"
   ]
  },
  {
   "cell_type": "code",
   "execution_count": 10,
   "metadata": {},
   "outputs": [],
   "source": [
    "import json\n",
    "import re"
   ]
  },
  {
   "cell_type": "markdown",
   "metadata": {},
   "source": [
    "#### 2. Storing List of unique labels in a file"
   ]
  },
  {
   "cell_type": "code",
   "execution_count": 11,
   "metadata": {},
   "outputs": [],
   "source": [
    "labelled_monuments = []\n",
    "with open('../Data/Films/Films_Hindi_Wikipedia_Wikidata_EnLabelled/Films_Hindi_Wikipedia_Wikidata_EnLabelled.json', 'r') as f:\n",
    "    labelled_monuments = json.load(f)"
   ]
  },
  {
   "cell_type": "code",
   "execution_count": 12,
   "metadata": {},
   "outputs": [],
   "source": [
    "label_list = []\n",
    "label_list_dict = {}\n",
    "for key in labelled_monuments.keys():\n",
    "    prop_value_dict = labelled_monuments[key]\n",
    "    props = list(prop_value_dict.keys())\n",
    "    label_list.extend(props)\n",
    "    for prop in props:\n",
    "        values = prop_value_dict[prop]\n",
    "        for value in values:\n",
    "            if type(value) == str:\n",
    "                label_list.append(value)\n",
    "            elif type(value) == dict:\n",
    "                val_dict_keys = list(value.keys())\n",
    "                label_list.extend(val_dict_keys)\n",
    "                for val_dict_key in val_dict_keys:\n",
    "                    if type(value[val_dict_key]) == str:\n",
    "                        label_list.append(value[val_dict_key])"
   ]
  },
  {
   "cell_type": "code",
   "execution_count": 13,
   "metadata": {},
   "outputs": [],
   "source": [
    "for label in label_list:\n",
    "    label_list_dict[label] = \"\""
   ]
  },
  {
   "cell_type": "code",
   "execution_count": 14,
   "metadata": {},
   "outputs": [
    {
     "data": {
      "text/plain": [
       "63374"
      ]
     },
     "execution_count": 14,
     "metadata": {},
     "output_type": "execute_result"
    }
   ],
   "source": [
    "len(label_list_dict)"
   ]
  },
  {
   "cell_type": "code",
   "execution_count": 15,
   "metadata": {},
   "outputs": [],
   "source": [
    "unique_label_list = list(label_list_dict.keys())"
   ]
  },
  {
   "cell_type": "code",
   "execution_count": 16,
   "metadata": {},
   "outputs": [],
   "source": [
    "#Commented out because the list of labels is written into the file already, now its time to read it.\n",
    "with open('../Data/Films/film_labels.txt', 'w') as f:\n",
    "    for item in unique_label_list:\n",
    "        f.write(\"%s\\n\" % item)"
   ]
  },
  {
   "cell_type": "markdown",
   "metadata": {},
   "source": [
    "#### 3. After manually translating the unique labels, storing them in a dictionary \n",
    "- Dictionary Mapping - English label as key  and its corresponding Hindi translation as its value"
   ]
  },
  {
   "cell_type": "code",
   "execution_count": 11,
   "metadata": {},
   "outputs": [],
   "source": [
    "hi_unique_label_list = []\n",
    "with open('../Data/Hindi_Labelled_Wikidata/Manually_Translated_labels/hindi_unique_labels_monuments') as f:\n",
    "    hi_unique_label_list = f.readlines()\n",
    "hi_unique_label_list = [x.strip() for x in hi_unique_label_list] "
   ]
  },
  {
   "cell_type": "code",
   "execution_count": 15,
   "metadata": {},
   "outputs": [],
   "source": [
    "for index in range(0,len(unique_label_list)):\n",
    "    label_list_dict[unique_label_list[index]] = hi_unique_label_list[index] "
   ]
  },
  {
   "cell_type": "markdown",
   "metadata": {},
   "source": [
    "#### 4. Reconstructing the Wikidata with Translated Hindi Labels for properties and values (Except for numbers, links)"
   ]
  },
  {
   "cell_type": "code",
   "execution_count": 21,
   "metadata": {},
   "outputs": [],
   "source": [
    "hi_labelled_monuments = {}\n",
    "for key in labelled_monuments.keys():\n",
    "    monument_labelled_prop_val = {}\n",
    "    \n",
    "    prop_value_dict = labelled_monuments[key]\n",
    "    props = list(prop_value_dict.keys())\n",
    "    \n",
    "    for prop in props:  \n",
    "        \n",
    "        labelled_values = []\n",
    "        values = prop_value_dict[prop]\n",
    "        \n",
    "        for value in values:\n",
    "            if type(value) == str:\n",
    "                if value in label_list_dict.keys():\n",
    "                    labelled_values.append(label_list_dict[value])\n",
    "                else:\n",
    "                    labelled_values.append(value)\n",
    "            elif type(value) == dict:\n",
    "                val_dict_keys = list(value.keys())\n",
    "                hi_val_dict = {}\n",
    "                for val_dict_key in val_dict_keys:\n",
    "                    if value[val_dict_key] in label_list_dict:\n",
    "                        hi_val_dict[label_list_dict[val_dict_key]] = label_list_dict[value[val_dict_key]]\n",
    "                    else:\n",
    "                        hi_val_dict[label_list_dict[val_dict_key]] = value[val_dict_key]\n",
    "                labelled_values.append(hi_val_dict)\n",
    "            else:\n",
    "                labelled_values.append(str(value))\n",
    "        \n",
    "        monument_labelled_prop_val[label_list_dict[prop]] = labelled_values\n",
    "    \n",
    "    hi_labelled_monuments[key] = monument_labelled_prop_val"
   ]
  },
  {
   "cell_type": "code",
   "execution_count": 23,
   "metadata": {},
   "outputs": [
    {
     "data": {
      "text/plain": [
       "{'कॉमन्स श्रेणी': ['बेसिका डी नुएस्ट्रा सेनोरा डे ला कैंडेलरिया'],\n",
       " 'छवि': ['टेनेरिफ.कैंडेलरिया.बाहरी.बेसिलिका.जेपीजी', 'कैंडेलरिया BW 4.जेपीजी'],\n",
       " 'प्रशासनिक प्रादेशिक इकाई में स्थित': ['कैंडेरिया'],\n",
       " 'समन्वय स्थान': [{'अक्षांश': 28.35128,\n",
       "   'देशांतर': -16.369782,\n",
       "   'ऊंचाई': None,\n",
       "   'परिशुद्धता': 2.77777777778e-06,\n",
       "   'ग्लोब': 'http://www.wikidata.org/entity/Q2'}],\n",
       " 'फ्रीबेस आईडी': ['/m/09gmvvw'],\n",
       " 'देश': ['स्पेन'],\n",
       " 'वास्तुकार': ['जोस एनरिक मैरेरो रेगालाडो'],\n",
       " 'उदाहरण': ['मामूली बेसिलिका', 'स्मारक', 'वर्जिन मैरी के लिए तीर्थ'],\n",
       " 'समर्पित': ['वर्जिन मैरी'],\n",
       " 'विरासत पदनाम': ['बिएन डी इंटरस कल्चरल'],\n",
       " 'आधिकारिक वेबसाइट': ['https://basilicadecandelaria.wordpress.com/'],\n",
       " 'स्थापत्य शैली': ['नियोक्लासिकल आर्किटेक्चर'],\n",
       " 'प्रदेश': ['सैन क्रिस्टोबल डी ला लागुना के रोमन कैथोलिक सूबा'],\n",
       " 'बिएन डी इंटरस कल्चरल (बीआईसी) कोड': ['आरआई-51-0007410'],\n",
       " 'धर्म': ['कैथोलिक धर्म'],\n",
       " 'स्थान': ['तेनेरीफ़े'],\n",
       " 'आरंभ': [{'समय': '+1959-00-00T00:00:00Z',\n",
       "   'समयक्षेत्र': 0,\n",
       "   'पहले': 0,\n",
       "   'बाद': 0,\n",
       "   'परिशुद्धता': 9,\n",
       "   'कैलेंडरमॉडल': 'http://www.wikidata.org/entity/Q1985727'}],\n",
       " 'संरक्षक संत': ['कैंडेलरिया के वर्जिन'],\n",
       " 'अधिकतम क्षमता': [{'राशि': '+5000', 'इकाई': '1'}],\n",
       " 'आइटम के इंटीरियर के लिए श्रेणी': ['श्रेणी: बेसिका डी नुएस्ट्रा सेनोरा डी ला कैंडेलरिया का इंटीरियर']}"
      ]
     },
     "execution_count": 23,
     "metadata": {},
     "output_type": "execute_result"
    }
   ],
   "source": [
    "hi_labelled_monuments['Q34485']"
   ]
  },
  {
   "cell_type": "code",
   "execution_count": 24,
   "metadata": {},
   "outputs": [
    {
     "data": {
      "text/plain": [
       "{'Commons category': ['Basílica de Nuestra Señora de la Candelaria'],\n",
       " 'image': ['Tenerife.candelaria.exterior.basilica.jpg', 'Candelaria BW 4.JPG'],\n",
       " 'located in the administrative territorial entity': ['Candelaria'],\n",
       " 'coordinate location': [{'latitude': 28.35128,\n",
       "   'longitude': -16.369782,\n",
       "   'altitude': None,\n",
       "   'precision': 2.77777777778e-06,\n",
       "   'globe': 'http://www.wikidata.org/entity/Q2'}],\n",
       " 'Freebase ID': ['/m/09gmvvw'],\n",
       " 'country': ['Spain'],\n",
       " 'architect': ['José Enrique Marrero Regalado'],\n",
       " 'instance of': ['minor basilica', 'monument', 'Shrine to the Virgin Mary'],\n",
       " 'dedicated to': ['Virgin Mary'],\n",
       " 'heritage designation': ['Bien de Interés Cultural'],\n",
       " 'official website': ['https://basilicadecandelaria.wordpress.com/'],\n",
       " 'architectural style': ['Neoclassical architecture'],\n",
       " 'diocese': ['Roman Catholic Diocese of San Cristóbal de La Laguna'],\n",
       " 'Bien de Interés Cultural (BIC) code': ['RI-51-0007410'],\n",
       " 'religion': ['Catholicism'],\n",
       " 'location': ['Tenerife'],\n",
       " 'inception': [{'time': '+1959-00-00T00:00:00Z',\n",
       "   'timezone': 0,\n",
       "   'before': 0,\n",
       "   'after': 0,\n",
       "   'precision': 9,\n",
       "   'calendarmodel': 'http://www.wikidata.org/entity/Q1985727'}],\n",
       " 'patron saint': ['Virgin of Candelaria'],\n",
       " 'maximum capacity': [{'amount': '+5000', 'unit': '1'}],\n",
       " 'category for the interior of the item': ['Category:Interior of the Basílica de Nuestra Señora de la Candelaria']}"
      ]
     },
     "execution_count": 24,
     "metadata": {},
     "output_type": "execute_result"
    }
   ],
   "source": [
    "labelled_monuments['Q34485']"
   ]
  },
  {
   "cell_type": "code",
   "execution_count": 26,
   "metadata": {},
   "outputs": [],
   "source": [
    "with open('../Data/Hindi_Labelled_Wikidata/hi_labelled_prop_values.json', 'w') as f:\n",
    "    json.dump(hi_labelled_monuments, f)"
   ]
  },
  {
   "cell_type": "code",
   "execution_count": null,
   "metadata": {},
   "outputs": [],
   "source": []
  }
 ],
 "metadata": {
  "kernelspec": {
   "display_name": "Python 3",
   "language": "python",
   "name": "python3"
  },
  "language_info": {
   "codemirror_mode": {
    "name": "ipython",
    "version": 3
   },
   "file_extension": ".py",
   "mimetype": "text/x-python",
   "name": "python",
   "nbconvert_exporter": "python",
   "pygments_lexer": "ipython3",
   "version": "3.7.3"
  }
 },
 "nbformat": 4,
 "nbformat_minor": 2
}
