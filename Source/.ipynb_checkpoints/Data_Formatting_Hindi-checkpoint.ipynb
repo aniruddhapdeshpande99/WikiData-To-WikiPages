{
 "cells": [
  {
   "cell_type": "markdown",
   "metadata": {},
   "source": [
    "#### 1. Importing Libraries"
   ]
  },
  {
   "cell_type": "code",
   "execution_count": 1,
   "metadata": {},
   "outputs": [],
   "source": [
    "import json"
   ]
  },
  {
   "cell_type": "markdown",
   "metadata": {},
   "source": [
    "#### 2. Reading JSON Files "
   ]
  },
  {
   "cell_type": "code",
   "execution_count": 2,
   "metadata": {},
   "outputs": [],
   "source": [
    "with open('../Data/Films/Films_Hindi_Wikipedia_Wikidata_Content/Films_Hindi_Wikipedia_Wikidata_Content.json') as f:\n",
    "    hi_monument_list = json.load(f)\n",
    "\n",
    "with open('../Data/Films/Films_Hindi_Wikipedia_Content/Films_Hindi_Wikipedia_Content.json') as f:\n",
    "    hi_articles = json.load(f)\n",
    "    \n",
    "with open('../Data/Films/Films_Hindi_Wikipedia_Wikidata_EnLabelled/Films_Hindi_Wikipedia_Wikidata_EnLabelled.json') as f:\n",
    "    hi_labelled = json.load(f)\n",
    "    \n",
    "temp_hi_articles = {}\n",
    "for key in hi_labelled.keys():\n",
    "    temp_hi_articles[key] = hi_articles[key]\n",
    "\n",
    "hi_articles = temp_hi_articles\n",
    "\n",
    "hi_monument_list = hi_monument_list[:-3]"
   ]
  },
  {
   "cell_type": "code",
   "execution_count": 3,
   "metadata": {},
   "outputs": [],
   "source": [
    "article_details = []\n",
    "for article_id in hi_articles.keys():\n",
    "    split_article = hi_articles[article_id].lower().split('।')[:-1]\n",
    "    for index in range(0,len(split_article)):\n",
    "        split_article[index] = split_article[index] + '।'\n",
    "    article_nb = str(len(split_article)) \n",
    "    article_title = ''\n",
    "    article_url = ''\n",
    "    for monument in hi_monument_list:\n",
    "        if monument['id'] == article_id:\n",
    "            article_title = monument['labels']['hi']['value']\n",
    "            article_url = 'https://hi.wikipedia.org/w/index.php?title='+article_title\n",
    "            break\n",
    "    article_details.append([article_id, article_nb, article_title, split_article, article_url])"
   ]
  },
  {
   "cell_type": "markdown",
   "metadata": {},
   "source": [
    "#### 3. Writing the data in the appropriate formatted and segregated files"
   ]
  },
  {
   "cell_type": "code",
   "execution_count": 4,
   "metadata": {},
   "outputs": [],
   "source": [
    "#Saving IDs\n",
    "with open('../Data/Films/WikiBio_Styled_Formatted_Data/train/train.id', 'a') as f:\n",
    "    for article in article_details:\n",
    "        f.write(article[0]+'\\n')\n",
    "\n",
    "# with open('../Data/Films/WikiBio_Styled_Formatted_Data/valid/valid.id', 'a') as f:\n",
    "#     for article in article_details[177:200]:\n",
    "#         f.write(article[0]+'\\n')\n",
    "\n",
    "# with open('../Data/Films/WikiBio_Styled_Formatted_Data/test/test.id', 'a') as f:\n",
    "#     for article in article_details[200:]:\n",
    "#         f.write(article[0]+'\\n')"
   ]
  },
  {
   "cell_type": "code",
   "execution_count": 5,
   "metadata": {},
   "outputs": [],
   "source": [
    "#Saving titles\n",
    "with open('../Data/Films/WikiBio_Styled_Formatted_Data/train/train.title', 'a') as f:\n",
    "    for article in article_details:\n",
    "        f.write(article[2]+'\\n')\n",
    "\n",
    "# with open('../Data/Films/WikiBio_Styled_Formatted_Data/valid/valid.title', 'a') as f:\n",
    "#     for article in article_details[177:200]:\n",
    "#         f.write(article[2]+'\\n')\n",
    "\n",
    "# with open('../Data/Films/WikiBio_Styled_Formatted_Data/test/test.title', 'a') as f:\n",
    "#     for article in article_details[200:]:\n",
    "#         f.write(article[2]+'\\n')"
   ]
  },
  {
   "cell_type": "code",
   "execution_count": 6,
   "metadata": {},
   "outputs": [],
   "source": [
    "#Saving URLs\n",
    "with open('../Data/Films/WikiBio_Styled_Formatted_Data/train/train.url', 'a') as f:\n",
    "    for article in article_details:\n",
    "        f.write(article[4]+'\\n')\n",
    "\n",
    "# with open('../Data/Films/WikiBio_Styled_Formatted_Data/valid/valid.url', 'a') as f:\n",
    "#     for article in article_details[177:200]:\n",
    "#         f.write(article[4]+'\\n')\n",
    "\n",
    "# with open('../Data/Films/WikiBio_Styled_Formatted_Data/test/test.url', 'a') as f:\n",
    "#     for article in article_details[200:]:\n",
    "#         f.write(article[4]+'\\n')"
   ]
  },
  {
   "cell_type": "code",
   "execution_count": 7,
   "metadata": {},
   "outputs": [],
   "source": [
    "#Saving Number of Sentences\n",
    "with open('../Data/Films/WikiBio_Styled_Formatted_Data/train/train.nb', 'a') as f:\n",
    "    for article in article_details:\n",
    "        f.write(article[1]+'\\n')\n",
    "\n",
    "# with open('../Data/Films/WikiBio_Styled_Formatted_Data/valid/valid.nb', 'a') as f:\n",
    "#     for article in article_details[177:200]:\n",
    "#         f.write(article[1]+'\\n')\n",
    "\n",
    "# with open('../Data/Films/WikiBio_Styled_Formatted_Data/test/test.nb', 'a') as f:\n",
    "#     for article in article_details[200:]:\n",
    "#         f.write(article[1]+'\\n')"
   ]
  },
  {
   "cell_type": "code",
   "execution_count": 8,
   "metadata": {},
   "outputs": [],
   "source": [
    "#Saving the articles sentence by sentence\n",
    "with open('../Data/Films/WikiBio_Styled_Formatted_Data/train/train.sent', 'a') as f:\n",
    "    for article in article_details:\n",
    "        for sentence in article[3]:\n",
    "            f.write(sentence+'\\n')\n",
    "\n",
    "# with open('../Data/Films/WikiBio_Styled_Formatted_Data/valid/valid.sent', 'a') as f:\n",
    "#     for article in article_details[177:200]:\n",
    "#         for sentence in article[3]:\n",
    "#             f.write(sentence+'\\n')\n",
    "\n",
    "# with open('../Data/Films/WikiBio_Styled_Formatted_Data/test/test.sent', 'a') as f:\n",
    "#     for article in article_details[200:]:\n",
    "#         for sentence in article[3]:\n",
    "#             f.write(sentence+'\\n')"
   ]
  },
  {
   "cell_type": "code",
   "execution_count": 9,
   "metadata": {},
   "outputs": [],
   "source": [
    "#Saving the contribution history for the articles\n",
    "article_contri = []\n",
    "contri_url_template = \"https://hi.wikipedia.org/w/index.php?title=\"\n",
    "history_url_template = \"&action=history\"\n",
    "for article in article_details:\n",
    "    title = article[4].split('/')[-1]\n",
    "    article_contri.append(contri_url_template+title+history_url_template)\n",
    "\n",
    "with open('../Data/Films/WikiBio_Styled_Formatted_Data/train/train.contributors', 'a') as f:\n",
    "    for hist_url in article_contri:\n",
    "        f.write(hist_url+'\\n')\n",
    "\n",
    "# with open('../Data/Films/WikiBio_Styled_Formatted_Data/valid/valid.contributors', 'a') as f:\n",
    "#     for hist_url in article_contri[177:200]:\n",
    "#         f.write(hist_url+'\\n')\n",
    "\n",
    "# with open('../Data/Films/WikiBio_Styled_Formatted_Data/test/test.contributors', 'a') as f:\n",
    "#     for hist_url in article_contri[200:]:\n",
    "#         f.write(hist_url+'\\n')"
   ]
  },
  {
   "cell_type": "code",
   "execution_count": null,
   "metadata": {},
   "outputs": [],
   "source": []
  }
 ],
 "metadata": {
  "kernelspec": {
   "display_name": "Python 3",
   "language": "python",
   "name": "python3"
  },
  "language_info": {
   "codemirror_mode": {
    "name": "ipython",
    "version": 3
   },
   "file_extension": ".py",
   "mimetype": "text/x-python",
   "name": "python",
   "nbconvert_exporter": "python",
   "pygments_lexer": "ipython3",
   "version": "3.7.3"
  }
 },
 "nbformat": 4,
 "nbformat_minor": 2
}
