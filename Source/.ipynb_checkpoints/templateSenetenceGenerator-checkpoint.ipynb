{
 "cells": [
  {
   "cell_type": "markdown",
   "metadata": {},
   "source": [
    "#### Importing Libraries"
   ]
  },
  {
   "cell_type": "code",
   "execution_count": 1,
   "metadata": {},
   "outputs": [],
   "source": [
    "import json"
   ]
  },
  {
   "cell_type": "markdown",
   "metadata": {},
   "source": [
    "#### Reading the Hindi Labelled Film Dataset"
   ]
  },
  {
   "cell_type": "code",
   "execution_count": 2,
   "metadata": {},
   "outputs": [],
   "source": [
    "hi_labelled_films = {}\n",
    "\n",
    "with open('../Data/Films/Films_Hindi_Wikidata_Hi_Labelled/films_hi_labelled.json') as f:\n",
    "    hi_labelled_films = json.load(f)"
   ]
  },
  {
   "cell_type": "markdown",
   "metadata": {},
   "source": [
    "#### Segregating out frequently occuring properties for films and removing the ID based properties. \n"
   ]
  },
  {
   "cell_type": "code",
   "execution_count": 3,
   "metadata": {},
   "outputs": [],
   "source": [
    "prop_counts = {}\n",
    "for film_key in hi_labelled_films.keys():\n",
    "    film = hi_labelled_films[film_key]\n",
    "    for prop in film.keys():\n",
    "        if prop not in prop_counts.keys():\n",
    "            prop_counts[prop] = 0\n",
    "        else:\n",
    "            prop_counts[prop] += 1"
   ]
  },
  {
   "cell_type": "code",
   "execution_count": 4,
   "metadata": {},
   "outputs": [],
   "source": [
    "frequent_props = {}\n",
    "for prop in prop_counts.keys():\n",
    "    if prop_counts[prop] >= 100 and \"आईडी\" not in prop.split():\n",
    "        frequent_props[prop] = prop_counts[prop]"
   ]
  },
  {
   "cell_type": "markdown",
   "metadata": {},
   "source": [
    "#### Post this step we manually select useless properties and remove them"
   ]
  },
  {
   "cell_type": "code",
   "execution_count": 5,
   "metadata": {},
   "outputs": [],
   "source": [
    "useless_props = ['अवधि', 'Isan', 'ईडर पहचानकर्ता','उदाहरण', 'कॉमन्स श्रेणी', 'गुणवत्ता है', 'छवि', 'ट्विटर उपयोगकर्ता नाम','फिल्मिरोडा रेटिंग', 'लोगो छवि', 'शीर्षक','शोषण वीजा संख्या', 'सिनेमेथेक क्यूबकोइस वर्क आइडेंटिजर', 'सिनेमेथेक क्यूबकोइस वर्क आइडेंटिजर', 'सीएनसी फिल्म रेटिंग (रोमानिया)', 'किजविज्जर रेटिंग', 'Medierådet रेटिंग', 'आरटीसी फिल्म रेटिंग', 'किजविज्जर रेटिंग', 'जेएमके फिल्म रेटिंग', 'सीएनसी फिल्म रेटिंग (फ्रांस)' ]"
   ]
  },
  {
   "cell_type": "code",
   "execution_count": 6,
   "metadata": {},
   "outputs": [],
   "source": [
    "final_props = {}\n",
    "for prop in frequent_props.keys():\n",
    "    if prop not in useless_props:\n",
    "        final_props[prop] = frequent_props[prop]"
   ]
  },
  {
   "cell_type": "code",
   "execution_count": 7,
   "metadata": {},
   "outputs": [
    {
     "data": {
      "text/plain": [
       "{'आईसीएए रेटिंग': 133,\n",
       " 'आधार पर': 245,\n",
       " 'आधिकारिक वेबसाइट': 568,\n",
       " 'उत्पादन कंपनी': 804,\n",
       " 'एनएमएचएच फिल्म रेटिंग': 131,\n",
       " 'एफएसके फिल्म रेटिंग': 410,\n",
       " 'एमपीएए फिल्म रेटिंग': 123,\n",
       " 'कथा स्थल': 946,\n",
       " 'कलाकार': 131,\n",
       " 'कार्यकारी निर्माता': 152,\n",
       " 'कास्ट मेंबर': 3675,\n",
       " 'के लिए मनोनीत': 190,\n",
       " 'कॉस्ट्यूम डिजाइनर': 100,\n",
       " 'द्वारा वितरित': 1068,\n",
       " 'निदेशक': 2918,\n",
       " 'निर्माता': 1671,\n",
       " 'पटकथा लेखक': 1688,\n",
       " 'पहलू अनुपात': 224,\n",
       " 'पुरस्कार प्राप्त': 238,\n",
       " 'प्रकाशन तिथि': 4080,\n",
       " 'प्रोडक्शन डिजाइनर': 122,\n",
       " 'फिल्म या टीवी शो की मूल भाषा': 4025,\n",
       " 'फिल्म संपादक': 713,\n",
       " 'फिल्मांकन स्थान': 451,\n",
       " 'फोटोग्राफी के निदेशक': 1182,\n",
       " 'बाद': 191,\n",
       " 'बॉक्स ऑफिस': 246,\n",
       " 'मुख्य विषय': 285,\n",
       " 'मूल देश': 4087,\n",
       " 'रंग': 2191,\n",
       " 'लागत': 170,\n",
       " 'शैली': 2343,\n",
       " 'श्रृंखला का हिस्सा': 173,\n",
       " 'संगीतकार': 2922}"
      ]
     },
     "execution_count": 7,
     "metadata": {},
     "output_type": "execute_result"
    }
   ],
   "source": [
    "final_props"
   ]
  },
  {
   "cell_type": "markdown",
   "metadata": {},
   "source": [
    "#### Based on the Properties above following template sentences were made.\n",
    "- Some were simple templates and some are complex templates involving multiple properties in a single sentence"
   ]
  },
  {
   "cell_type": "code",
   "execution_count": 8,
   "metadata": {},
   "outputs": [],
   "source": [
    "template_sentences = ['{{film}} एक {{based on}} पर आधारित फिल्म है। ', \n",
    "                      'इस फिल्म का  निर्देशन {{director}} ने किया है। ', \n",
    "                      ' यह फिल्म का वितरण {{distributor}} द्वारा किया गया है। ',  \n",
    "                      ' फिल्म की घटनाए {{narr locations}} पर हुई हैं। ', \n",
    "                      'फिल्म के लिए संगीत रचना {{music director}} द्वारा दे गयी है और गायन {{singers}} द्वारा दिया गया है। ', \n",
    "                      'फिल्म के लिए संगीत रचना {{music director}} द्वारा दे गयी है। ', \n",
    "                      'यह फिल्म {{artist}} द्वारा निर्माणित कथा पर आधारित है। ', \n",
    "                      '{{film}} {{release year}} में बनी {{genre}} शैली की फ़िल्म है जिसका निर्माण {{artist}} ने किया है व वितरण {{distributor}} द्वारा किया गया है। ', \n",
    "                      'इस फिल्म की घटनाए {{narr locations}} पर हुई गयी थी लेकिन इनकी शूटिंग {{fil locations}} पर की गयी थी। ', \n",
    "                      'फिल्म  की शूटिंग {{fil locations}} पर हुई हैं। ', \n",
    "                      '{{film}} एक {{based on}} पर आधारित {{genre}} शैली की फिल्म है।', \n",
    "                     '{{film}} एक {{based on}} पर आधारित {{topic}} के विषय पर बनी फिल्म है।',\n",
    "                     '{{film}} एक {{based on}} पर आधारित फिल्म है जो {{series}} श्रृंखला का हिस्सा है ।',\n",
    "                     '{{film}} एक {{based on}} पर आधारित {{genre}} शैली की फिल्म है और {{series}} श्रृंखला का हिस्सा है ।',\n",
    "                      'यह फिल्म {{based on}} पर आधारित {{genre}} शैली की फिल्म है। ',\n",
    "                      'यह फिल्म {{based on}} पर आधारित {{topic}} के विषय पे बनी फिल्म है । ',\n",
    "                      'यह फिल्म {{based on}} पर आधारित {{series}} श्रृंखला का हिस्सा है । ',\n",
    "                      'यह फिल्म {{based on}} पर आधारित {{genre}} शैली की फिल्म है और {{series}} श्रृंखला का हिस्सा है ।',\n",
    "                      '{{film}} एक {{release year}} में रिलीज़ हुई {{genre}} शैली की फिल्म है। ',\n",
    "                      '{{film}} एक {{release year}} में रिलीज़ हुई {{topic}} के विषय पर बनी फिल्म है ।',\n",
    "                      '{{film}} {{release year}} में रिलीज़ हुई, एक {{series}} श्रृंखला की फिल्म है ।',\n",
    "                      '{{film}} एक {{series}} श्रृंखला की फिल्म है ।',\n",
    "                      '{{film}} एक {{release year}} में रिलीज़ हुई, {{artist}} द्वारा निर्माणित कथा पर आधारित फिल्म है ।',\n",
    "                      '{{film}} एक {{release year}} में रिलीज़ हुई, {{artist}} द्वारा निर्माणित कथा पर आधारित {{series}} श्रृंखला की फिल्म है।',\n",
    "                      '{{film}} एक {{release year}} में रिलीज़ हुई, {{topic}} के विषय पर बनी {{series}} श्रृंखला की फिल्म है।',\n",
    "                      '{{film}} एक {{release year}} में रिलीज़ हुई, {{genre}} शैली की फिल्म है जो एक {{series}} श्रृंखला का हिस्सा है । ',\n",
    "                      'इस फिल्म में {{singers}} ने गायन किया है।',\n",
    "                      'यह फिल्म {{genre}} शैली की है।',\n",
    "                      '{{producer}} द्वारा निर्मित फिल्म में निर्देशन {{director}} ने दिया। ',\n",
    "                      '{{director}} द्वारा निर्देशित इस फिल्म में {{cast}} प्रमुख भूमिका  निभाते हैं।',\n",
    "                      '{{cast}} ने इस फिल्म में भूमिका निभाई ।',\n",
    "                      'यह फिल्म {{series}} श्रृंखला का हिस्सा है। ',\n",
    "                      '{{screenwriter}} द्वारा लिखी इस फिल्म का निर्देशन {{director}} ने संम्भाला।',\n",
    "                      '{{producer}} द्वारा निर्मित इस फिल्म का लेखन {{screenwriter}} ने किया और निर्देशन {{director}} ने संम्भाला।',\n",
    "                      'फिल्म की पट कथा {{screenwriter}} ने प्रदान करी। ',\n",
    "                      'इस फिल्म ने कई पुरस्कार मनोनीत  किया गया जैसे {{nominated}} और इन में से कई पुरस्कार जैसे {{awards won}} जीते भी।',\n",
    "                      'फिल्म को कई पुरस्कारों जैसे {{nominated}} भी किया गया। ',\n",
    "                      'फिल्म ने अनेक पुरस्कार जैसे {{awards won}} भी जीते । ',\n",
    "                      'यह मौलिक रूप से {{lang}} भाषा में शूट हुई एक {{country}} फिल्म है।',\n",
    "                      'यह मौलिक रूप से एक, {{lang}} भाषा में शूट हुई फिल्म है।',\n",
    "                      'फिल्म के लिए पोशाक रचना {{costume designer}} ने संभाली।',\n",
    "                      'फिल्म के लिए प्रोडक्शन डिजाइनिंग {{production designer}} ने की ।',\n",
    "                      'फिल्म के सम्पादक {{editor}} थे और इनके साथ फोटोग्राफी निर्देशन {{dir photo}} ने संभाली ।',\n",
    "                      'फिल्म के सम्पादक {{editor}} थे ।',\n",
    "                      'फिल्म के लिए फोटोग्राफी के निर्देशक {{dir photo}} थे ।',\n",
    "                      'फिल्म की  श्रृंखला में अगली फिल्म {{sequel}} है।',\n",
    "                      'फिल्म की लागत {{budget}} थी और उसकी तुलना में फिल्म ने {{box office}} कमाए।',\n",
    "                      ' फिल्म ने बॉक्स ऑफिस में {{box office}} कमाए।',\n",
    "                      'फिल्म की लागत {{budget}} थी।',\n",
    "                      'यह फिल्म {{topic}} के विषय पर बनी फिल्म है।',\n",
    "                      'यह एक {{colour}} फिल्म है। ',\n",
    "                      '{{film}} एक {{lang}} भाषा में शूट हुई एक {{country}} फिल्म है।',\n",
    "                      '{{film}} एक {{country}} फिल्म है।',\n",
    "                      '{{film}} एक {{lang}} भाषा में शूट हुई फिल्म है।',\n",
    "                     ]"
   ]
  },
  {
   "cell_type": "code",
   "execution_count": 9,
   "metadata": {},
   "outputs": [
    {
     "data": {
      "text/plain": [
       "54"
      ]
     },
     "execution_count": 9,
     "metadata": {},
     "output_type": "execute_result"
    }
   ],
   "source": [
    "len(template_sentences)"
   ]
  },
  {
   "cell_type": "code",
   "execution_count": 10,
   "metadata": {},
   "outputs": [],
   "source": [
    "with open('../Data/Films/Films_Generated_Wikipages/template_sents.json', 'w') as f:\n",
    "    json.dump(template_sentences,f)"
   ]
  },
  {
   "cell_type": "code",
   "execution_count": null,
   "metadata": {},
   "outputs": [],
   "source": []
  }
 ],
 "metadata": {
  "kernelspec": {
   "display_name": "Python 3",
   "language": "python",
   "name": "python3"
  },
  "language_info": {
   "codemirror_mode": {
    "name": "ipython",
    "version": 3
   },
   "file_extension": ".py",
   "mimetype": "text/x-python",
   "name": "python",
   "nbconvert_exporter": "python",
   "pygments_lexer": "ipython3",
   "version": "3.5.2"
  }
 },
 "nbformat": 4,
 "nbformat_minor": 2
}
