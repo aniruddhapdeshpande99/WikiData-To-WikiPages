{
 "cells": [
  {
   "cell_type": "code",
   "execution_count": 1,
   "metadata": {},
   "outputs": [],
   "source": [
    "import json\n",
    "import re\n",
    "import numpy as np"
   ]
  },
  {
   "cell_type": "code",
   "execution_count": 2,
   "metadata": {},
   "outputs": [],
   "source": [
    "def retrieve_data():\n",
    "    \n",
    "    en_prop_key = {\n",
    "        'budget':'लागत',\n",
    "        'narr locations' : 'कथा स्थल',\n",
    "        'production company' : 'उत्पादन कंपनी',\n",
    "        'artist' : 'कार्यकारी निर्माता',\n",
    "        'ICAA rating' : 'आईसीएए रेटिंग',\n",
    "        'series' : 'श्रृंखला का हिस्सा',\n",
    "        'NMHH rating' : 'एनएमएचएच फिल्म रेटिंग' ,\n",
    "        'nominated' : 'के लिए मनोनीत',\n",
    "        'sequel' : 'बाद' ,\n",
    "        'MPAA rating' : 'एमपीएए फिल्म रेटिंग',\n",
    "        'date' : 'प्रकाशन तिथि',\n",
    "        'release year' : 'प्रकाशन तिथि',\n",
    "        'awards won' : 'पुरस्कार प्राप्त',\n",
    "        'cast' : 'कास्ट मेंबर',\n",
    "        'producer' : 'निर्माता' ,\n",
    "        'website' : 'आधिकारिक वेबसाइट' ,\n",
    "        'distributor' : 'द्वारा वितरित' ,\n",
    "        'based on' : 'आधार पर',\n",
    "        'director' : 'निदेशक',\n",
    "        'country' : 'मूल देश',\n",
    "        'editor' : 'फिल्म संपादक',\n",
    "        'production designer' : 'प्रोडक्शन डिजाइनर',\n",
    "        'singers' : 'संगीतकार',\n",
    "        'topic' : 'मुख्य विषय',\n",
    "        'fil locations' : 'फिल्मांकन स्थान',\n",
    "        'music director' : 'कलाकार',\n",
    "        'dir photo' : 'फोटोग्राफी के निदेशक',\n",
    "        'FSK rating' : 'एफएसके फिल्म रेटिंग',\n",
    "        'duration' : 'पहलू अनुपात',\n",
    "        'colour': 'रंग',\n",
    "        'box office' : 'बॉक्स ऑफिस',\n",
    "        'costume designer' : 'कॉस्ट्यूम डिजाइनर',\n",
    "        'lang' : 'फिल्म या टीवी शो की मूल भाषा',\n",
    "        'screenwriter' : 'पटकथा लेखक' ,\n",
    "        'genre' : 'शैली' \n",
    "    }\n",
    "\n",
    "    \n",
    "    \n",
    "    sentence_templates = []\n",
    "    with open('../Data/Films/Films_Generated_Wikipages/template_sents.json') as f:\n",
    "        sentence_templates = json.load(f)\n",
    "\n",
    "    hi_labelled_films = {}\n",
    "    with open('../Data/Films/Films_Hindi_Wikidata_Hi_Labelled/films_hi_labelled.json') as f:\n",
    "        hi_labelled_films = json.load(f)\n",
    "    \n",
    "    film_ids = []\n",
    "    with open('../Data/Films/WikiBio_Styled_Formatted_Data/train/train.id') as f:\n",
    "        film_ids = f.readlines()\n",
    "    film_ids = [x.strip() for x in film_ids]\n",
    "    \n",
    "    film_titles = []\n",
    "    with open('../Data/Films/WikiBio_Styled_Formatted_Data/train/train.title') as f:\n",
    "        film_titles = f.readlines()\n",
    "    film_titles = [x.strip() for x in film_titles]\n",
    "    \n",
    "    film_urls = []\n",
    "    with open('../Data/Films/WikiBio_Styled_Formatted_Data/train/train.url') as f:\n",
    "        film_urls = f.readlines()\n",
    "    film_urls = [x.strip() for x in film_urls]\n",
    "    \n",
    "    film_details = {}\n",
    "    \n",
    "    for i in range(0,len(film_ids)):\n",
    "        film_details[film_ids[i]] = {'url':film_urls[i], 'title': film_titles[i]}\n",
    "        \n",
    "    return film_details,sentence_templates, hi_labelled_films, en_prop_key"
   ]
  },
  {
   "cell_type": "code",
   "execution_count": 3,
   "metadata": {},
   "outputs": [],
   "source": [
    "def get_first_sentences_templates(sentence_templates):\n",
    "    first_sentences = []\n",
    "    for sentence in sentence_templates:\n",
    "        if '{{film}}' in sentence.split():\n",
    "            first_sentences.append(sentence)\n",
    "    \n",
    "    return first_sentences"
   ]
  },
  {
   "cell_type": "code",
   "execution_count": 4,
   "metadata": {},
   "outputs": [],
   "source": [
    "def retrieve_template_tags(sentence_templates):\n",
    "    template_tags = {}\n",
    "    for sentence_template in sentence_templates:\n",
    "        template_tags[sentence_template] = re.findall(r'\\{\\{(.*?)\\}\\}', sentence_template)\n",
    "    \n",
    "    return template_tags"
   ]
  },
  {
   "cell_type": "code",
   "execution_count": 5,
   "metadata": {},
   "outputs": [],
   "source": [
    "def retrieve_sent_tags(sentence):\n",
    "    return re.findall(r'\\{\\{(.*?)\\}\\}', sentence)"
   ]
  },
  {
   "cell_type": "code",
   "execution_count": 6,
   "metadata": {},
   "outputs": [],
   "source": [
    "def retrieve_first_sentence_template(template_tags, article_props, en_prop_key):\n",
    "    sentence_templates = list(template_tags.keys())\n",
    "    first_sentences = get_first_sentences_templates(sentence_templates)\n",
    "    first_sentences_tags = retrieve_template_tags(first_sentences)\n",
    "    \n",
    "    for sent in first_sentences_tags.keys():\n",
    "        tags = first_sentences_tags[sent]\n",
    "        tags.remove('film')\n",
    "        first_sentences_tags[sent] = tags\n",
    "    \n",
    "    matching_template = \"\"\n",
    "    max_template_size = 0\n",
    "    \n",
    "    for first_sent in first_sentences_tags.keys():\n",
    "        tags  = first_sentences_tags[first_sent]\n",
    "        hi_tags = [en_prop_key[tag] for tag in tags]\n",
    "        \n",
    "        if set(hi_tags) <= set(article_props) and len(hi_tags) > max_template_size:\n",
    "            max_template_size = len(hi_tags)\n",
    "            matching_template = first_sent\n",
    "            \n",
    "    return matching_template\n",
    "    "
   ]
  },
  {
   "cell_type": "code",
   "execution_count": 7,
   "metadata": {},
   "outputs": [],
   "source": [
    "def retrieve_remaining_sentence_template(remaining_template_tags, remaining_article_props, en_prop_key):    \n",
    "    matching_template = \"\"\n",
    "    max_template_size = 0\n",
    "    \n",
    "    for remaining_sent in remaining_template_tags.keys():\n",
    "        tags  = remaining_template_tags[remaining_sent]\n",
    "        hi_tags = [en_prop_key[tag] for tag in tags]\n",
    "        \n",
    "        if set(hi_tags) <= set(remaining_article_props) and len(hi_tags) > max_template_size:\n",
    "            max_template_size = len(hi_tags)\n",
    "            matching_template = remaining_sent\n",
    "            \n",
    "    return matching_template"
   ]
  },
  {
   "cell_type": "code",
   "execution_count": 8,
   "metadata": {},
   "outputs": [],
   "source": [
    "def update_remaining_props(template_tags, article_props, article, en_prop_key):\n",
    "    article_tags = retrieve_sent_tags(article)\n",
    "    new_template_tags = {}\n",
    "    \n",
    "    for template_sent in template_tags.keys():\n",
    "        flag = 1\n",
    "        tags = template_tags[template_sent]\n",
    "        for tag in article_tags:\n",
    "            if tag in tags:\n",
    "                flag = 0\n",
    "                break\n",
    "        if flag == 1:\n",
    "            new_template_tags[template_sent] = template_tags[template_sent]\n",
    "    \n",
    "    article_tags.remove('film')\n",
    "    used_props = [en_prop_key[tag] for tag in article_tags]\n",
    "    \n",
    "    new_article_props = []\n",
    "    for prop in article_props:\n",
    "        if prop not in used_props:\n",
    "            new_article_props.append(prop)\n",
    "    \n",
    "    return new_template_tags, new_article_props\n",
    "    "
   ]
  },
  {
   "cell_type": "code",
   "execution_count": 9,
   "metadata": {},
   "outputs": [],
   "source": [
    "def create_wikipage(film_id, film_details, sentence_templates, hi_labelled_films, en_prop_key):\n",
    "    template_tags = retrieve_template_tags(sentence_templates)\n",
    "    total_props = np.array(list(en_prop_key.values()))\n",
    "    total_props = list(np.unique(total_props))\n",
    "    \n",
    "    film = hi_labelled_films[film_id]\n",
    "    film_wiki_props = {}\n",
    "    \n",
    "    for prop in total_props:\n",
    "        if prop in film.keys():\n",
    "            film_wiki_props[prop] = film[prop]\n",
    "    \n",
    "    article_props = set(list(film_wiki_props.keys()))\n",
    "    non_article_props = set(['पहलू अनुपात', 'आईसीएए रेटिंग', 'एफएसके फिल्म रेटिंग', 'आधिकारिक वेबसाइट', 'उत्पादन कंपनी', 'एमपीएए फिल्म रेटिंग', 'एनएमएचएच फिल्म रेटिंग'])\n",
    "    article_props = article_props.difference(non_article_props)\n",
    "    article_props = list(article_props)\n",
    "    \n",
    "    article = retrieve_first_sentence_template(template_tags, article_props , en_prop_key)\n",
    "    if article == \"\":\n",
    "        article = \"{{film}} एक फिल्म है।\"\n",
    "        \n",
    "    while article_props:\n",
    "        template_tags, article_props = update_remaining_props(template_tags, article_props, article, en_prop_key)\n",
    "        article = article + retrieve_remaining_sentence_template(template_tags, article_props, en_prop_key)\n",
    "    \n",
    "    \n",
    "    return article"
   ]
  },
  {
   "cell_type": "code",
   "execution_count": 10,
   "metadata": {},
   "outputs": [
    {
     "name": "stdout",
     "output_type": "stream",
     "text": [
      "{{film}} {{release year}} में बनी {{genre}} शैली की फ़िल्म है जिसका निर्माण {{artist}} ने किया है व वितरण {{distributor}} द्वारा किया गया है। {{producer}} द्वारा निर्मित इस फिल्म का लेखन {{screenwriter}} ने किया और निर्देशन {{director}} ने संम्भाला।यह फिल्म {{based on}} पर आधारित {{topic}} के विषय पे बनी फिल्म है । इस फिल्म की घटनाए {{narr locations}} पर हुई गयी थी लेकिन इनकी शूटिंग {{fil locations}} पर की गयी थी। फिल्म के सम्पादक {{editor}} थे और इनके साथ फोटोग्राफी निर्देशन {{dir photo}} ने संभाली ।यह मौलिक रूप से {{lang}} भाषा में शूट हुई एक {{country}} फिल्म है।इस फिल्म ने कई पुरस्कार मनोनीत  किया गया जैसे {{nominated}} और इन में से कई पुरस्कार जैसे {{awards won}} जीते भी।फिल्म की लागत {{budget}} थी और उसकी तुलना में फिल्म ने {{box office}} कमाए।इस फिल्म में {{singers}} ने गायन किया है।यह एक {{colour}} फिल्म है। यह फिल्म {{series}} श्रृंखला का हिस्सा है। फिल्म की  श्रृंखला में अगली फिल्म {{sequel}} है।{{cast}} ने इस फिल्म में भूमिका निभाई ।फिल्म के लिए पोशाक रचना {{costume designer}} ने संभाली।\n"
     ]
    }
   ],
   "source": [
    "film_details,sentence_templates, hi_labelled_films, en_prop_key = retrieve_data()\n",
    "print(create_wikipage('Q182218', film_details, sentence_templates, hi_labelled_films, en_prop_key))"
   ]
  }
 ],
 "metadata": {
  "kernelspec": {
   "display_name": "Python 3",
   "language": "python",
   "name": "python3"
  },
  "language_info": {
   "codemirror_mode": {
    "name": "ipython",
    "version": 3
   },
   "file_extension": ".py",
   "mimetype": "text/x-python",
   "name": "python",
   "nbconvert_exporter": "python",
   "pygments_lexer": "ipython3",
   "version": "3.5.2"
  }
 },
 "nbformat": 4,
 "nbformat_minor": 2
}
