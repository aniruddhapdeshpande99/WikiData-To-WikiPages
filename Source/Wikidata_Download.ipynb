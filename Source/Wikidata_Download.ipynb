{
 "cells": [
  {
   "cell_type": "markdown",
   "metadata": {},
   "source": [
    "#### 1. Importing Libraries"
   ]
  },
  {
   "cell_type": "code",
   "execution_count": 1,
   "metadata": {},
   "outputs": [],
   "source": [
    "from qwikidata.entity import WikidataItem, WikidataLexeme, WikidataProperty\n",
    "from qwikidata.linked_data_interface import get_entity_dict_from_api\n",
    "import json\n",
    "import time"
   ]
  },
  {
   "cell_type": "markdown",
   "metadata": {},
   "source": [
    "#### 2. Inputting List of monuments from SPARQL output of list of Monuments"
   ]
  },
  {
   "cell_type": "code",
   "execution_count": 2,
   "metadata": {},
   "outputs": [],
   "source": [
    "with open('../Data/Wikidata_JSON/monument_list.json') as f:\n",
    "    monument_list = json.load(f)\n",
    "\n",
    "for i in range (0,len(monument_list)):\n",
    "    monument_list[i]['monument'] = monument_list[i]['monument'].split('/')[-1]"
   ]
  },
  {
   "cell_type": "markdown",
   "metadata": {},
   "source": [
    "#### 3. Removing Monuments Without English Labels"
   ]
  },
  {
   "cell_type": "code",
   "execution_count": 3,
   "metadata": {},
   "outputs": [
    {
     "name": "stdout",
     "output_type": "stream",
     "text": [
      "Checkpoint 27 reached, JSON dumps saved | Time Elapsed: 286.84903144836426\n",
      "Checkpoint 28 reached, JSON dumps saved | Time Elapsed: 588.3102819919586\n",
      "Checkpoint 29 reached, JSON dumps saved | Time Elapsed: 877.3987095355988\n",
      "Checkpoint 30 reached, JSON dumps saved | Time Elapsed: 1173.2791221141815\n",
      "Checkpoint 31 reached, JSON dumps saved | Time Elapsed: 1493.0480134487152\n",
      "Checkpoint 32 reached, JSON dumps saved | Time Elapsed: 1805.1946744918823\n",
      "Checkpoint 33 reached, JSON dumps saved | Time Elapsed: 2128.2329285144806\n",
      "Checkpoint 34 reached, JSON dumps saved | Time Elapsed: 2433.300959587097\n",
      "Checkpoint 35 reached, JSON dumps saved | Time Elapsed: 2733.826067209244\n",
      "Checkpoint 36 reached, JSON dumps saved | Time Elapsed: 3057.88929104805\n",
      "Checkpoint 37 reached, JSON dumps saved | Time Elapsed: 3384.4891769886017\n",
      "Checkpoint 38 reached, JSON dumps saved | Time Elapsed: 3743.67800116539\n",
      "Checkpoint 39 reached, JSON dumps saved | Time Elapsed: 4102.023770570755\n",
      "Checkpoint 40 reached, JSON dumps saved | Time Elapsed: 4393.2922348976135\n",
      "Checkpoint 41 reached, JSON dumps saved | Time Elapsed: 4705.375441074371\n",
      "Checkpoint 42 reached, JSON dumps saved | Time Elapsed: 5005.975629091263\n",
      "Checkpoint 43 reached, JSON dumps saved | Time Elapsed: 5332.821947097778\n",
      "Checkpoint 44 reached, JSON dumps saved | Time Elapsed: 5649.81552028656\n",
      "Checkpoint 45 reached, JSON dumps saved | Time Elapsed: 5957.637180328369\n",
      "Checkpoint 46 reached, JSON dumps saved | Time Elapsed: 6268.420355796814\n",
      "Checkpoint 47 reached, JSON dumps saved | Time Elapsed: 6588.31946349144\n",
      "Checkpoint 48 reached, JSON dumps saved | Time Elapsed: 6888.470225572586\n",
      "Checkpoint 49 reached, JSON dumps saved | Time Elapsed: 7196.612753152847\n",
      "Checkpoint 50 reached, JSON dumps saved | Time Elapsed: 7500.296809434891\n",
      "Checkpoint 51 reached, JSON dumps saved | Time Elapsed: 7818.708558082581\n",
      "Checkpoint 52 reached, JSON dumps saved | Time Elapsed: 8134.642316579819\n",
      "Checkpoint 53 reached, JSON dumps saved | Time Elapsed: 8453.191976547241\n",
      "Checkpoint 54 reached, JSON dumps saved | Time Elapsed: 8740.222743034363\n",
      "Checkpoint 55 reached, JSON dumps saved | Time Elapsed: 9014.033838033676\n",
      "Checkpoint 56 reached, JSON dumps saved | Time Elapsed: 9293.161613225937\n",
      "Checkpoint 57 reached, JSON dumps saved | Time Elapsed: 9557.79766869545\n",
      "Checkpoint 58 reached, JSON dumps saved | Time Elapsed: 9899.876368761063\n",
      "Checkpoint 59 reached, JSON dumps saved | Time Elapsed: 10193.559878587723\n",
      "Checkpoint 60 reached, JSON dumps saved | Time Elapsed: 10492.205286979675\n",
      "Checkpoint 61 reached, JSON dumps saved | Time Elapsed: 10802.747911453247\n",
      "Checkpoint 62 reached, JSON dumps saved | Time Elapsed: 11112.466190099716\n",
      "Checkpoint 63 reached, JSON dumps saved | Time Elapsed: 11461.846731424332\n",
      "Checkpoint 64 reached, JSON dumps saved | Time Elapsed: 11741.298936843872\n",
      "Checkpoint 65 reached, JSON dumps saved | Time Elapsed: 12132.919508695602\n",
      "Checkpoint 66 reached, JSON dumps saved | Time Elapsed: 12506.193395614624\n",
      "Checkpoint 67 reached, JSON dumps saved | Time Elapsed: 12818.97833275795\n",
      "Checkpoint 68 reached, JSON dumps saved | Time Elapsed: 13121.948834180832\n",
      "Checkpoint 69 reached, JSON dumps saved | Time Elapsed: 13417.806514978409\n",
      "Checkpoint 70 reached, JSON dumps saved | Time Elapsed: 13714.713534116745\n",
      "Checkpoint 71 reached, JSON dumps saved | Time Elapsed: 14032.131991624832\n",
      "Checkpoint 72 reached, JSON dumps saved | Time Elapsed: 14352.45243358612\n",
      "Checkpoint 73 reached, JSON dumps saved | Time Elapsed: 14705.757583618164\n",
      "Checkpoint 74 reached, JSON dumps saved | Time Elapsed: 15062.469767093658\n",
      "Checkpoint 75 reached, JSON dumps saved | Time Elapsed: 15437.451912641525\n",
      "Checkpoint 76 reached, JSON dumps saved | Time Elapsed: 15859.147230148315\n",
      "Checkpoint 77 reached, JSON dumps saved | Time Elapsed: 16260.603258132935\n",
      "Checkpoint 78 reached, JSON dumps saved | Time Elapsed: 16595.494124889374\n",
      "Checkpoint 79 reached, JSON dumps saved | Time Elapsed: 16926.444544315338\n",
      "Checkpoint 80 reached, JSON dumps saved | Time Elapsed: 17233.620968341827\n",
      "Checkpoint 81 reached, JSON dumps saved | Time Elapsed: 17552.181255817413\n",
      "Checkpoint 82 reached, JSON dumps saved | Time Elapsed: 17907.833523273468\n",
      "Checkpoint 83 reached, JSON dumps saved | Time Elapsed: 18244.275063991547\n",
      "Checkpoint 84 reached, JSON dumps saved | Time Elapsed: 18600.943519830704\n",
      "Checkpoint 85 reached, JSON dumps saved | Time Elapsed: 19009.225174427032\n",
      "Checkpoint 86 reached, JSON dumps saved | Time Elapsed: 19478.43522286415\n",
      "Checkpoint 87 reached, JSON dumps saved | Time Elapsed: 19934.497145175934\n",
      "Checkpoint 88 reached, JSON dumps saved | Time Elapsed: 20319.775422096252\n",
      "Checkpoint 89 reached, JSON dumps saved | Time Elapsed: 20694.911661863327\n",
      "Checkpoint 90 reached, JSON dumps saved | Time Elapsed: 21049.884025096893\n",
      "Checkpoint 91 reached, JSON dumps saved | Time Elapsed: 21390.81823539734\n",
      "Checkpoint 92 reached, JSON dumps saved | Time Elapsed: 21717.810804605484\n",
      "Checkpoint 93 reached, JSON dumps saved | Time Elapsed: 22030.66694521904\n",
      "Checkpoint 94 reached, JSON dumps saved | Time Elapsed: 22356.173754692078\n",
      "Checkpoint 95 reached, JSON dumps saved | Time Elapsed: 22681.928082942963\n",
      "Checkpoint 96 reached, JSON dumps saved | Time Elapsed: 23028.722927093506\n",
      "Checkpoint 97 reached, JSON dumps saved | Time Elapsed: 23354.895661115646\n",
      "Checkpoint 98 reached, JSON dumps saved | Time Elapsed: 23690.786590099335\n",
      "Checkpoint 99 reached, JSON dumps saved | Time Elapsed: 24025.68029308319\n",
      "Checkpoint 100 reached, JSON dumps saved | Time Elapsed: 24358.141664505005\n",
      "Checkpoint 101 reached, JSON dumps saved | Time Elapsed: 24677.172603845596\n",
      "Checkpoint 102 reached, JSON dumps saved | Time Elapsed: 25002.248388051987\n",
      "Checkpoint 103 reached, JSON dumps saved | Time Elapsed: 25306.36683034897\n",
      "Checkpoint 104 reached, JSON dumps saved | Time Elapsed: 25676.764768838882\n",
      "Checkpoint 105 reached, JSON dumps saved | Time Elapsed: 26121.914777755737\n",
      "Checkpoint 106 reached, JSON dumps saved | Time Elapsed: 26462.29785132408\n",
      "Checkpoint 107 reached, JSON dumps saved | Time Elapsed: 26855.140231847763\n",
      "Checkpoint 108 reached, JSON dumps saved | Time Elapsed: 27217.309339284897\n",
      "Checkpoint 109 reached, JSON dumps saved | Time Elapsed: 27601.640107154846\n",
      "Checkpoint 110 reached, JSON dumps saved | Time Elapsed: 27940.643349170685\n",
      "Checkpoint 111 reached, JSON dumps saved | Time Elapsed: 28261.854913711548\n",
      "Checkpoint 112 reached, JSON dumps saved | Time Elapsed: 28587.269993543625\n",
      "Checkpoint 113 reached, JSON dumps saved | Time Elapsed: 28949.325942993164\n",
      "Checkpoint 114 reached, JSON dumps saved | Time Elapsed: 29297.376608133316\n",
      "Checkpoint 115 reached, JSON dumps saved | Time Elapsed: 29701.90486383438\n",
      "Checkpoint 116 reached, JSON dumps saved | Time Elapsed: 30075.28169465065\n"
     ]
    },
    {
     "name": "stderr",
     "output_type": "stream",
     "text": [
      "Wikidata redirect detected.  Input entity id=Q78781635. Returned entity id=Q21150721.\n"
     ]
    },
    {
     "name": "stdout",
     "output_type": "stream",
     "text": [
      "Checkpoint 117 reached, JSON dumps saved | Time Elapsed: 30432.788942098618\n",
      "Checkpoint 118 reached, JSON dumps saved | Time Elapsed: 30853.463105916977\n",
      "Checkpoint 119 reached, JSON dumps saved | Time Elapsed: 31259.998111248016\n",
      "Checkpoint 120 reached, JSON dumps saved | Time Elapsed: 31645.708259105682\n"
     ]
    },
    {
     "name": "stderr",
     "output_type": "stream",
     "text": [
      "Wikidata redirect detected.  Input entity id=Q87721075. Returned entity id=Q43135303.\n"
     ]
    }
   ],
   "source": [
    "count_monuments = 5200\n",
    "\n",
    "t0 = time.time()\n",
    "\n",
    "en_labelled_monuments = []\n",
    "all_monuments = []\n",
    "\n",
    "for mon in monument_list[5200:]:\n",
    "    mon_details = get_entity_dict_from_api(mon['monument'])\n",
    "    all_monuments.append(mon_details)\n",
    "    if 'en' in mon_details['labels'].keys():\n",
    "        en_labelled_monuments.append(mon_details)\n",
    "    \n",
    "    count_monuments = count_monuments + 1\n",
    "    \n",
    "    if count_monuments%200 == 0:\n",
    "        partition_num = str(count_monuments/200).split('.')[0]\n",
    "        with open('../Data/Wikidata_JSON/en_monument_dump_part'+ partition_num + '.json', 'w') as fout:\n",
    "            json.dump(en_labelled_monuments, fout)\n",
    "\n",
    "        with open('../Data/Wikidata_JSON/monument_dump_part'+ partition_num + '.json', 'w') as fout:\n",
    "            json.dump(all_monuments, fout)\n",
    "            \n",
    "        en_labelled_monuments = []\n",
    "        all_monuments = []\n",
    "        \n",
    "        print(\"Checkpoint %d reached, JSON dumps saved |\" % (count_monuments/200), end = ' ')\n",
    "        print(\"Time Elapsed:\", end = ' ')\n",
    "        print(time.time()-t0)\n",
    "\n",
    "t1 = time.time()\n",
    "total = t1-t0"
   ]
  },
  {
   "cell_type": "code",
   "execution_count": null,
   "metadata": {},
   "outputs": [],
   "source": []
  }
 ],
 "metadata": {
  "kernelspec": {
   "display_name": "Python 3",
   "language": "python",
   "name": "python3"
  },
  "language_info": {
   "codemirror_mode": {
    "name": "ipython",
    "version": 3
   },
   "file_extension": ".py",
   "mimetype": "text/x-python",
   "name": "python",
   "nbconvert_exporter": "python",
   "pygments_lexer": "ipython3",
   "version": "3.5.2"
  }
 },
 "nbformat": 4,
 "nbformat_minor": 2
}
